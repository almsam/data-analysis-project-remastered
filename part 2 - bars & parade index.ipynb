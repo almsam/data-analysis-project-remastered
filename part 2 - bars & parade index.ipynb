{
 "cells": [
  {
   "cell_type": "markdown",
   "metadata": {},
   "source": [
    "# Part 2: search for correlations between gay bars & zips pride passed through\n",
    "\n",
    "In my original I used another amateur approach to visualize the dynamic of queer & cis/het communities - this time instead of using my data viz toolbox exclusively I will use regression to probe for conclusions in the data\n",
    "\n",
    "Lets see what insights GAYBORHOODS can offer us today"
   ]
  },
  {
   "cell_type": "code",
   "execution_count": 1,
   "metadata": {},
   "outputs": [
    {
     "name": "stdout",
     "output_type": "stream",
     "text": [
      "                zip     population  gay tax rate  overall tax paid  income  \\\n",
      "count   2184.000000    2184.000000   2184.000000       2184.000000  2184.0   \n",
      "mean   48935.203297   26691.730769   4373.997253        596.719322     1.0   \n",
      "std    35451.335807   17960.713867   3054.620840        615.174358     0.0   \n",
      "min     1730.000000     160.000000      0.000000          0.000000     1.0   \n",
      "25%    11360.750000   13337.500000   2110.000000        217.000000     1.0   \n",
      "50%    60023.500000   24070.000000   3900.000000        434.000000     1.0   \n",
      "75%    80227.250000   35640.000000   5902.500000        777.250000     1.0   \n",
      "max    98686.000000  114420.000000  24560.000000       9166.000000     1.0   \n",
      "\n",
      "               lat         long  \n",
      "count  2184.000000  2184.000000  \n",
      "mean     38.016518   -91.296804  \n",
      "std       5.210272    18.476699  \n",
      "min      25.572213  -123.118977  \n",
      "25%      33.997027  -105.037767  \n",
      "50%      39.930150   -87.603617  \n",
      "75%      40.960828   -74.310179  \n",
      "max      47.916786   -70.758184  \n",
      "------------------------------------------------------------------------\n",
      "        zip  population  gay tax rate  overall tax paid  income        lat  \\\n",
      "0      1730     13570.0          3260             150.0       1  42.499295   \n",
      "1      1731      2450.0           550               0.0       1  42.456748   \n",
      "2      1742     17170.0          4220             297.0       1  42.462911   \n",
      "3      1760     34350.0          7880             468.0       1  42.284822   \n",
      "4      1770      4310.0          1060              46.0       1  42.231947   \n",
      "...     ...         ...           ...               ...     ...        ...   \n",
      "2179  98682     57010.0         11080             703.0       1  45.673209   \n",
      "2180  98683     30700.0          6470             358.0       1  45.603287   \n",
      "2181  98684     27630.0          5390             371.0       1  45.630556   \n",
      "2182  98685     27540.0          6490             298.0       1  45.715211   \n",
      "2183  98686     17800.0          4120             215.0       1  45.723392   \n",
      "\n",
      "            long  \n",
      "0     -71.281889  \n",
      "1     -71.279484  \n",
      "2     -71.364496  \n",
      "3     -71.348811  \n",
      "4     -71.372963  \n",
      "...          ...  \n",
      "2179 -122.481745  \n",
      "2180 -122.510170  \n",
      "2181 -122.514839  \n",
      "2182 -122.693165  \n",
      "2183 -122.624397  \n",
      "\n",
      "[2184 rows x 7 columns]\n"
     ]
    }
   ],
   "source": [
    "# starting with data cleaning like last time\n",
    "\n",
    "import pandas as pd\n",
    "import seaborn as sns\n",
    "import numpy as np\n",
    "import matplotlib.pyplot as plt\n",
    "\n",
    "gaybourhoods = pd.read_csv(\"data/gaybourhoods.csv\")\n",
    "\n",
    "cords = pd.read_csv(\"data/zip_lat_long.csv\")\n",
    "gaydf = pd.read_csv(\"data/tax_and_gay.csv\")\n",
    "\n",
    "gaydf = gaydf.merge(cords, left_on=\"zip\", right_on=\"ZIP\")\n",
    "gaydf = gaydf.rename({\n",
    "    \"LAT\": \"lat\",\n",
    "    \"LNG\": \"long\",\n",
    "}, axis=\"columns\")\n",
    "del gaydf['zip.1']\n",
    "del gaydf['ZIP']\n",
    "\n",
    "print(gaydf.describe())\n",
    "print(\"------------------------------------------------------------------------\")\n",
    "print(gaydf)"
   ]
  },
  {
   "cell_type": "code",
   "execution_count": 2,
   "metadata": {},
   "outputs": [
    {
     "name": "stdout",
     "output_type": "stream",
     "text": [
      "       pride parade index  gay bars index          lat         long\n",
      "count         2328.000000     2328.000000  2328.000000  2328.000000\n",
      "mean             0.017612        0.118127    38.044304   -91.221236\n",
      "std              0.131563        0.861863     5.148365    18.533499\n",
      "min              0.000000        0.000000    25.572213  -123.118977\n",
      "25%              0.000000        0.000000    34.021932  -105.049099\n",
      "50%              0.000000        0.000000    39.899977   -87.494097\n",
      "75%              0.000000        0.000000    40.912413   -74.288743\n",
      "max              1.000000       17.000000    47.916786   -70.758184\n",
      "------------------------------------------------------------------------\n",
      "      pride parade index  gay bars index        lat        long\n",
      "0                      1              15  34.093828 -118.381697\n",
      "1                      0              17  37.758057 -122.435410\n",
      "2                      1               5  40.742039  -74.000620\n",
      "3                      1              10  40.734012  -74.006746\n",
      "4                      1               9  37.773134 -122.411167\n",
      "...                  ...             ...        ...         ...\n",
      "2323                   0               0  45.528666 -122.678981\n",
      "2324                   0               0  47.606211 -122.333792\n",
      "2325                   0               0  47.449678 -122.307657\n",
      "2326                   0               0  47.604569 -122.335359\n",
      "2327                   0               0  47.649339 -122.310294\n",
      "\n",
      "[2328 rows x 4 columns]\n"
     ]
    }
   ],
   "source": [
    "def loadprideindexes(secdf):\n",
    "    gaydf = pd.DataFrame(zip(gaybourhoods['GEOID10'], gaybourhoods['ParadeFlag'], gaybourhoods['CountBars']))\n",
    "    gaydf.columns=(('zip', 'pride parade index', 'gay bars index'))\n",
    "    gaydf = gaydf.merge(secdf, left_on=\"zip\", right_on=\"ZIP\")\n",
    "    \n",
    "    return gaydf\n",
    "\n",
    "def notzip(dat):\n",
    "    del dat['zip'];    del dat['ZIP']\n",
    "\n",
    "cords = pd.read_csv(\"data/zip_lat_long.csv\")\n",
    "gaydf = loadprideindexes(cords)\n",
    "\n",
    "notzip(gaydf)\n",
    "\n",
    "gaydf = gaydf.rename({\"LAT\": \"lat\", \"LNG\": \"long\",}, axis=\"columns\")\n",
    "\n",
    "print(gaydf.describe())\n",
    "print(\"------------------------------------------------------------------------\")\n",
    "print(gaydf)\n",
    "\n",
    "gaydf.to_csv(\"data/gay_pride\", index=False)"
   ]
  },
  {
   "cell_type": "code",
   "execution_count": 3,
   "metadata": {},
   "outputs": [],
   "source": [
    "gaydf = pd.read_csv(\"data/gay_pride\")"
   ]
  },
  {
   "cell_type": "markdown",
   "metadata": {},
   "source": [
    "Looks like my old work runs fine, time to use my old plots"
   ]
  }
 ],
 "metadata": {
  "kernelspec": {
   "display_name": "Python 3",
   "language": "python",
   "name": "python3"
  },
  "language_info": {
   "codemirror_mode": {
    "name": "ipython",
    "version": 3
   },
   "file_extension": ".py",
   "mimetype": "text/x-python",
   "name": "python",
   "nbconvert_exporter": "python",
   "pygments_lexer": "ipython3",
   "version": "3.12.5"
  }
 },
 "nbformat": 4,
 "nbformat_minor": 2
}
