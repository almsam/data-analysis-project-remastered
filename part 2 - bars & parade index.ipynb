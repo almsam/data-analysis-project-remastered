{
 "cells": [
  {
   "cell_type": "markdown",
   "metadata": {},
   "source": [
    "# Part 2: search for correlations between gay bars & zips pride passed through\n",
    "\n",
    "In my original I used another amateur approach to visualize the dynamic of queer & cis/het communities - this time instead of using my data viz toolbox exclusively I will use regression to probe for conclusions in the data\n",
    "\n",
    "Lets see what insights GAYBORHOODS can offer us today"
   ]
  },
  {
   "cell_type": "code",
   "execution_count": null,
   "metadata": {},
   "outputs": [],
   "source": []
  }
 ],
 "metadata": {
  "language_info": {
   "name": "python"
  }
 },
 "nbformat": 4,
 "nbformat_minor": 2
}
