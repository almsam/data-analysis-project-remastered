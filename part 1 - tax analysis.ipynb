{
 "cells": [
  {
   "cell_type": "markdown",
   "metadata": {},
   "source": [
    "# Part 1: comparing tax rates of the 2 groups\n",
    "\n",
    "\n",
    "//add images\n",
    "\n",
    "in this section I will attempt to use regression methods to not only determine correlation & comparison - but also to compare insights in other parameters of the groups"
   ]
  }
 ],
 "metadata": {
  "language_info": {
   "name": "python"
  }
 },
 "nbformat": 4,
 "nbformat_minor": 2
}
