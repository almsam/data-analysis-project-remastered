{
 "cells": [
  {
   "cell_type": "markdown",
   "metadata": {},
   "source": [
    "# Part 1: comparing tax rates of the 2 groups\n",
    "\n",
    "in my original project I used a very amature approach to determine if queer communities paid more or fewer taxes comapred to the general population - I did this improperly using data vizualization techniques\n",
    "\n",
    "//add images\n",
    "\n",
    "in this section I will attempt to use regression methods to not only determine correlation & comparison - but also to compare insights in other parameters of the groups"
   ]
  }
 ],
 "metadata": {
  "language_info": {
   "name": "python"
  }
 },
 "nbformat": 4,
 "nbformat_minor": 2
}
