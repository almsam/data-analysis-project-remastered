{
 "cells": [
  {
   "cell_type": "markdown",
   "metadata": {},
   "source": [
    "# Part 3: An analysis of political alignment\n",
    "\n",
    "In this section we will use electoral data to measure political alignment & see whatever conclusions we can receive from here. Ready? Time to do a Data science\n",
    "\n",
    "Ill start by 'Creatively Sharing' Nat's old code"
   ]
  },
  {
   "cell_type": "code",
   "execution_count": 2,
   "metadata": {},
   "outputs": [],
   "source": [
    "import pandas as pd\n",
    "import seaborn as sns\n",
    "import numpy as np\n",
    "from PIL import Image\n",
    "\n",
    "import matplotlib.pyplot as plt\n",
    "import matplotlib.patches as mpatches\n",
    "from matplotlib.colors import LinearSegmentedColormap\n",
    "\n",
    "sns.set_theme(style=\"white\")\n",
    "sns.set(font_scale=1.2)\n",
    "sns.set_palette(\"copper_r\")\n",
    "plt.rcParams[\"axes.labelsize\"] = 12\n",
    "\n",
    "# Absolutely diabolical method of doing relative imports with a package who shares its name with\n",
    "# something in the stdlib in Jupyter Lab because it seems impossible otherwise\n",
    "__import__(\"sys\").path.append(\"./code\")\n",
    "# from project_functions1 import *\n",
    "\n",
    "CITIES = [\n",
    "    { \"name\": \"Atlanta\", \"pos\": (-84.791944, -84.001944, 33.478333, 34.0375) },\n",
    "    { \"name\": \"Austin\", \"pos\": (-98.071667, -97.371111, 30.033889, 30.569722) },\n",
    "    { \"name\": \"Boston\", \"pos\": (-71.284444, -70.880278, 42.206389, 42.484444) },\n",
    "    { \"name\": \"Chicago\", \"pos\": (-88.044167, -87.508333, 41.624444, 42.026389) },\n",
    "    { \"name\": \"Denver\", \"pos\": (-105.104444, -104.625556, 39.578611, 39.920278) },\n",
    "    { \"name\": \"Houston\", \"pos\": (-95.858333, -95.013056, 29.472778, 30.134167) },\n",
    "    { \"name\": \"Los Angeles\", \"pos\": (-118.615556, -117.618333, 33.701111, 34.411667) },\n",
    "    { \"name\": \"Miami\", \"pos\": (-80.2375, -80.145833, 25.734722, 25.812222) },\n",
    "    { \"name\": \"New York\", \"pos\": (-74.459722, -73.393333, 40.355556, 41.102222) },\n",
    "    { \"name\": \"New Orleans\", \"pos\": (-90.220833, -89.915833, 29.813056, 30.045556) },\n",
    "    { \"name\": \"Philadelphia\", \"pos\": (-75.344167, -74.94, 39.846667, 40.146389) },\n",
    "    { \"name\": \"Portland\", \"pos\": (-122.795278, -122.493333, 45.465556, 45.654444) },\n",
    "    { \"name\": \"San Francisco\", \"pos\": (-122.521667, -122.352778, 37.690278, 37.812222) },\n",
    "    { \"name\": \"Seattle\", \"pos\": (-122.473056, -122.151667, 47.493333, 47.718611) },\n",
    "    { \"name\": \"Washington DC\", \"pos\": (-77.1125, -76.919722, 38.833333, 38.963889) },\n",
    "]"
   ]
  },
  {
   "cell_type": "code",
   "execution_count": null,
   "metadata": {},
   "outputs": [],
   "source": []
  }
 ],
 "metadata": {
  "kernelspec": {
   "display_name": "Python 3",
   "language": "python",
   "name": "python3"
  },
  "language_info": {
   "codemirror_mode": {
    "name": "ipython",
    "version": 3
   },
   "file_extension": ".py",
   "mimetype": "text/x-python",
   "name": "python",
   "nbconvert_exporter": "python",
   "pygments_lexer": "ipython3",
   "version": "3.12.5"
  }
 },
 "nbformat": 4,
 "nbformat_minor": 2
}
