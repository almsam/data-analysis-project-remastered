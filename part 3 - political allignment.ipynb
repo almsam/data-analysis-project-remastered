{
 "cells": [
  {
   "cell_type": "markdown",
   "metadata": {},
   "source": [
    "# Part 3: An analysis of political alignment\n",
    "\n",
    "In this section we will use electoral data to measure political alignment & see whatever conclusions we can receive from here. Ready? Time to do a Data science"
   ]
  },
  {
   "cell_type": "code",
   "execution_count": null,
   "metadata": {
    "vscode": {
     "languageId": "plaintext"
    }
   },
   "outputs": [],
   "source": []
  }
 ],
 "metadata": {
  "language_info": {
   "name": "python"
  }
 },
 "nbformat": 4,
 "nbformat_minor": 2
}
