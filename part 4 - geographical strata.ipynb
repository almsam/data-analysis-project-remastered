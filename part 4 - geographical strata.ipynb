{
 "cells": [
  {
   "cell_type": "markdown",
   "metadata": {},
   "source": [
    "# Part 4: correlations on geographic strata\n",
    "\n",
    "In our final section, we will use data viz techniques like the original - the goal being to study geographics instead of demographics, which as the original analysis1 states is more abstract - but will lead to key insights as to how we as data scientists analyze minority groups. Ready? Set? Data!"
   ]
  },
  {
   "cell_type": "code",
   "execution_count": null,
   "metadata": {},
   "outputs": [],
   "source": []
  }
 ],
 "metadata": {
  "language_info": {
   "name": "python"
  }
 },
 "nbformat": 4,
 "nbformat_minor": 2
}
